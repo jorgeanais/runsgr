{
 "cells": [
  {
   "cell_type": "code",
   "execution_count": null,
   "metadata": {},
   "outputs": [],
   "source": []
  },
  {
   "cell_type": "markdown",
   "metadata": {},
   "source": [
    "# Pasos\n",
    "\n",
    "1. Cargar los datos\n",
    "2. probabilidades iniciales, eta inicial?\n",
    "3. Definir funciones\n",
    "4. Actualizar valores\n",
    "\n",
    "\n"
   ]
  },
  {
   "cell_type": "code",
   "execution_count": 1,
   "metadata": {},
   "outputs": [],
   "source": [
    "from pathlib import Path\n",
    "\n",
    "from astropy.table import Table\n",
    "\n",
    "from sgrmemb.loader import get_arrays_vasiliev\n",
    "from sgrmemb.settings import FileConfig\n",
    "from sgrmemb.plots import make_prob_slices_plots_modular\n",
    "\n",
    "from sgrmemb.densitygen import (\n",
    "    gen_ast,\n",
    "    gen_ast_memb2,\n",
    "    gen_pos_memb,\n",
    "    gen_pos_field,\n",
    "    gen_phot,\n",
    ")\n",
    "import numpy as np\n",
    "import numpy.typing as npt\n",
    "import matplotlib.pyplot as plt\n"
   ]
  },
  {
   "cell_type": "code",
   "execution_count": 2,
   "metadata": {},
   "outputs": [],
   "source": [
    "vasiliev_data = get_arrays_vasiliev(FileConfig.VASILIEV_DATA)"
   ]
  },
  {
   "cell_type": "code",
   "execution_count": null,
   "metadata": {},
   "outputs": [],
   "source": [
    "from proc.pipeline import load, get_subspace_data\n",
    "\n",
    "SPACE_PARAMS = {\n",
    "    \"pos_αδ\": [\"ra\", \"dec\"],\n",
    "    \"pos_lb\": [\"l\", \"b\"],\n",
    "    \"pos_xy\": [\"SgrX\", \"SgrY\"],\n",
    "    \"pm\": [\"pmra\", \"pmdec\"],\n",
    "    \"pm_corr\": [\"pmra_corr\", \"pmdec_corr\"],\n",
    "    \"cmd\": [\"mag_J-mag_Ks\", \"mag_Ks\"],\n",
    "    \"ccd\": [\"mag_J-mag_Ks\", \"mag_H-mag_Ks\"],\n",
    "    \"cmd_gaia\": [\"bp_rp\", \"phot_g_mean_mag\"],\n",
    "}\n",
    "\n",
    "filepath = Path(\"/home/jorge/Documents/data/sgr/base_sample/lowbulge/60_merged/vvv_x_vvvx_pm+parallax_merged.fits\")\n",
    "\n",
    "df = load(filepath)\n",
    "train_data = get_subspace_data(df, SPACE_PARAMS)"
   ]
  },
  {
   "cell_type": "markdown",
   "metadata": {},
   "source": [
    "Primer paso, calcular probabilidades desde los PM y/o paralaje"
   ]
  },
  {
   "cell_type": "code",
   "execution_count": null,
   "metadata": {},
   "outputs": [],
   "source": [
    "eta = 0.001\n",
    "\n",
    "prob_xi_memb = df[\"prob_xi_memb\"]\n",
    "prob_xi_field = df[\"prob_xi_field\"]\n",
    "\n",
    "total_likelihood = eta * prob_xi_memb + (1 - eta) * prob_xi_field\n",
    "q_memb_i = eta * prob_xi_memb / total_likelihood\n",
    "q_field_i = (1 - eta) * prob_xi_field / total_likelihood\n",
    "mask = np.isnan(q_memb_i)\n",
    "eta = np.average(q_memb_i[~mask])\n",
    "print(eta)"
   ]
  },
  {
   "cell_type": "code",
   "execution_count": null,
   "metadata": {},
   "outputs": [],
   "source": [
    "for iteration in range(101):\n",
    "    total_likelihood = eta * prob_xi_memb + (1 - eta) * prob_xi_field\n",
    "    q_memb_i = eta * prob_xi_memb / total_likelihood\n",
    "    q_field_i = (1 - eta) * prob_xi_field / total_likelihood\n",
    "    mask = np.isnan(q_memb_i)\n",
    "    eta = np.average(q_memb_i[~mask])\n",
    "    if iteration % 10 == 0:\n",
    "        print(iteration, eta)"
   ]
  },
  {
   "cell_type": "markdown",
   "metadata": {},
   "source": [
    "Graficar"
   ]
  },
  {
   "cell_type": "code",
   "execution_count": null,
   "metadata": {},
   "outputs": [],
   "source": [
    "# Results\n",
    "plt.hist(q_memb_i, bins=50)\n",
    "plt.close()\n",
    "make_prob_slices_plots_modular(\n",
    "    labeled_data=(\n",
    "        (\"pos\", train_data[\"pos_lb\"]),\n",
    "        (\"ast\", train_data[\"pm\"]),\n",
    "        (\"cmd\", train_data[\"cmd\"]),\n",
    "    ),\n",
    "    prob=q_memb_i,\n",
    "    n_slices=4,\n",
    "    save_path=None,\n",
    ")"
   ]
  },
  {
   "cell_type": "markdown",
   "metadata": {},
   "source": [
    "Actualizar modelos"
   ]
  },
  {
   "cell_type": "code",
   "execution_count": null,
   "metadata": {},
   "outputs": [],
   "source": [
    "mask_nan_memb = np.isnan(q_memb_i)\n",
    "mask_nan_field = np.isnan(q_field_i)\n",
    "\n",
    "pos_memb = gen_pos_memb(X_train=vasiliev_data[\"pos_xy\"])\n",
    "pos_field = gen_pos_field(\n",
    "    X_train=train_data[\"pos_lb\"], weights=q_field_i, n_bins=10, n_intervals=2\n",
    ")\n",
    "phot_memb = gen_phot(X_train=train_data[\"cmd\"][~mask_nan_memb], weights=q_memb_i[~mask_nan_memb])\n",
    "phot_field = gen_phot(X_train=train_data[\"cmd\"][~mask_nan_field], weights=q_field_i[~mask_nan_field])"
   ]
  },
  {
   "cell_type": "code",
   "execution_count": null,
   "metadata": {},
   "outputs": [],
   "source": [
    "# Expectation\n",
    "prob_xi_memb = df[\"prob_xi_memb\"] * pos_memb(train_data[\"pos_xy\"]) * phot_memb(train_data[\"cmd\"])\n",
    "prob_xi_field = df[\"prob_xi_field\"] * pos_field(train_data[\"pos_lb\"]) * phot_field(train_data[\"cmd\"])"
   ]
  },
  {
   "cell_type": "code",
   "execution_count": null,
   "metadata": {},
   "outputs": [],
   "source": [
    "total_likelihood = eta * prob_xi_memb + (1 - eta) * prob_xi_field\n",
    "q_memb_i = eta * prob_xi_memb / total_likelihood\n",
    "q_field_i = (1 - eta) * prob_xi_field / total_likelihood\n",
    "mask = np.isnan(q_memb_i)\n",
    "eta = np.average(q_memb_i[~mask])\n",
    "print(eta)"
   ]
  },
  {
   "cell_type": "markdown",
   "metadata": {},
   "source": [
    "Graficar"
   ]
  },
  {
   "cell_type": "code",
   "execution_count": null,
   "metadata": {},
   "outputs": [],
   "source": [
    "make_prob_slices_plots_modular(\n",
    "    labeled_data=(\n",
    "        (\"pos\", train_data[\"pos_lb\"]),\n",
    "        (\"ast\", train_data[\"pm\"]),\n",
    "        (\"cmd\", train_data[\"cmd\"]),\n",
    "    ),\n",
    "    prob=q_memb_i,\n",
    "    n_slices=4,\n",
    "    save_path=FileConfig.OUTPUT_PATH / \"histograms.png\",\n",
    ")"
   ]
  }
 ],
 "metadata": {
  "kernelspec": {
   "display_name": "cpsplines",
   "language": "python",
   "name": "python3"
  },
  "language_info": {
   "codemirror_mode": {
    "name": "ipython",
    "version": 3
   },
   "file_extension": ".py",
   "mimetype": "text/x-python",
   "name": "python",
   "nbconvert_exporter": "python",
   "pygments_lexer": "ipython3",
   "version": "3.9.18"
  }
 },
 "nbformat": 4,
 "nbformat_minor": 2
}
